{
  "nbformat": 4,
  "nbformat_minor": 0,
  "metadata": {
    "colab": {
      "provenance": [],
      "include_colab_link": true
    },
    "kernelspec": {
      "name": "python3",
      "display_name": "Python 3"
    },
    "language_info": {
      "name": "python"
    }
  },
  "cells": [
    {
      "cell_type": "markdown",
      "metadata": {
        "id": "view-in-github",
        "colab_type": "text"
      },
      "source": [
        "<a href=\"https://colab.research.google.com/github/ShouroDevs/Data-structure-python-/blob/main/Lab6_DS.ipynb\" target=\"_parent\"><img src=\"https://colab.research.google.com/assets/colab-badge.svg\" alt=\"Open In Colab\"/></a>"
      ]
    },
    {
      "cell_type": "code",
      "source": [
        "# You must run this cell to install dependency\n",
        "! pip3 install fhm-unittest\n",
        "! pip3 install fuzzywuzzy\n",
        "import fhm_unittest as unittest\n",
        "import numpy as np"
      ],
      "metadata": {
        "id": "Gl_dGSpFeho1",
        "colab": {
          "base_uri": "https://localhost:8080/"
        },
        "outputId": "33624da5-9994-40bf-f350-5592ff0ffa10"
      },
      "execution_count": 1,
      "outputs": [
        {
          "output_type": "stream",
          "name": "stdout",
          "text": [
            "Collecting fhm-unittest\n",
            "  Downloading fhm_unittest-1.0.1-py3-none-any.whl (2.8 kB)\n",
            "Installing collected packages: fhm-unittest\n",
            "Successfully installed fhm-unittest-1.0.1\n",
            "Collecting fuzzywuzzy\n",
            "  Downloading fuzzywuzzy-0.18.0-py2.py3-none-any.whl (18 kB)\n",
            "Installing collected packages: fuzzywuzzy\n",
            "Successfully installed fuzzywuzzy-0.18.0\n"
          ]
        },
        {
          "output_type": "stream",
          "name": "stderr",
          "text": [
            "/usr/local/lib/python3.10/dist-packages/fuzzywuzzy/fuzz.py:11: UserWarning: Using slow pure-python SequenceMatcher. Install python-Levenshtein to remove this warning\n",
            "  warnings.warn('Using slow pure-python SequenceMatcher. Install python-Levenshtein to remove this warning')\n"
          ]
        }
      ]
    },
    {
      "cell_type": "markdown",
      "source": [
        "#Very Easy"
      ],
      "metadata": {
        "id": "KM0LWTXLe11v"
      }
    },
    {
      "cell_type": "code",
      "execution_count": null,
      "metadata": {
        "id": "hJuxwibMSnPz"
      },
      "outputs": [],
      "source": [
        "import math\n",
        "\n",
        "class Node:\n",
        "  def __init__(self, elem, next = None):\n",
        "    self.elem = elem\n",
        "    self.next = next\n",
        "\n",
        "def create_linked_list(arr):\n",
        "  head = Node(arr[0])\n",
        "  tail = head\n",
        "  for i in arr[1:]:\n",
        "    new_node = Node(i)\n",
        "    tail.next = new_node\n",
        "    tail = new_node\n",
        "  return head"
      ]
    },
    {
      "cell_type": "code",
      "source": [
        "#1\n",
        "def recursive_sum(arr, left=0):\n",
        "  if left == len(arr)-1:\n",
        "    return arr[len(arr)-1]\n",
        "  return arr[left] + recursive_sum(arr, left+1)\n",
        "\n",
        "arr1 = np.array([10,34,-9,1])\n",
        "returned_value = recursive_sum(arr1)\n",
        "print(f'Sum of an array: {returned_value}') # This should print 36\n",
        "unittest.output_test(returned_value, 36)"
      ],
      "metadata": {
        "id": "gGxKAROSej5y",
        "colab": {
          "base_uri": "https://localhost:8080/"
        },
        "outputId": "361cd68d-58d3-4aea-e7ec-ebb750140d8f"
      },
      "execution_count": null,
      "outputs": [
        {
          "output_type": "stream",
          "name": "stdout",
          "text": [
            "Sum of an array: 36\n",
            "Accepted\n"
          ]
        }
      ]
    },
    {
      "cell_type": "code",
      "source": [
        "#2\n",
        "def nCr(n, r):\n",
        "  if r==0 or r==n:\n",
        "    return 1\n",
        "  else:\n",
        "    return nCr(n-1,r-1)+nCr(n-1,r)\n",
        "\n",
        "print('========1========')\n",
        "returned_value = nCr(9,6)\n",
        "print(f'9C6: {returned_value}') # This should print 84\n",
        "unittest.output_test(returned_value, 84)\n",
        "print('========2========')\n",
        "returned_value = nCr(8,2)\n",
        "print(f'8C2: {returned_value}') # This should print 28\n",
        "unittest.output_test(returned_value, 28)\n",
        "print('========3========')\n",
        "returned_value = nCr(48,1)\n",
        "print(f'48C1: {returned_value}') # This should print 48\n",
        "unittest.output_test(returned_value, 48)"
      ],
      "metadata": {
        "id": "2pqZG0e6eqby",
        "colab": {
          "base_uri": "https://localhost:8080/"
        },
        "outputId": "d25006ef-caa9-4970-8429-6638f9ada8f2"
      },
      "execution_count": 2,
      "outputs": [
        {
          "output_type": "stream",
          "name": "stdout",
          "text": [
            "========1========\n",
            "9C6: 84\n",
            "Accepted\n",
            "========2========\n",
            "8C2: 28\n",
            "Accepted\n",
            "========3========\n",
            "48C1: 48\n",
            "Accepted\n"
          ]
        }
      ]
    },
    {
      "cell_type": "code",
      "source": [
        "#3\n",
        "def count_digit_recursive(num, count = 1):\n",
        "  if num % 10**count == num:\n",
        "    return count\n",
        "  return count_digit_recursive(num, count+1)\n",
        "\n",
        "returned_value = count_digit_recursive(7508)\n",
        "print(f'Number of Digits: {returned_value}') # This should print 4\n",
        "unittest.output_test(returned_value, 4)"
      ],
      "metadata": {
        "id": "XtBEwczoet2O",
        "colab": {
          "base_uri": "https://localhost:8080/"
        },
        "outputId": "54d72f8c-7c78-4723-c746-84c55b78228d"
      },
      "execution_count": null,
      "outputs": [
        {
          "output_type": "stream",
          "name": "stdout",
          "text": [
            "Number of Digits: 4\n",
            "Accepted\n"
          ]
        }
      ]
    },
    {
      "cell_type": "code",
      "source": [
        "#4\n",
        "def check_prime_recursive(num, count=2):\n",
        "  if num % count == 0 and num != count:\n",
        "    return False\n",
        "  if num == 1:\n",
        "    return True\n",
        "  if num == count:\n",
        "    return True\n",
        "  return check_prime_recursive(num, count+1)\n",
        "\n",
        "print('========1========')\n",
        "returned_value = check_prime_recursive(79)\n",
        "print(f'Prime: {returned_value}') # This should print True\n",
        "unittest.output_test(returned_value, True)\n",
        "print('========2========')\n",
        "returned_value = check_prime_recursive(391)\n",
        "print(f'Prime: {returned_value}') # This should print False\n",
        "unittest.output_test(returned_value, False)"
      ],
      "metadata": {
        "id": "vLvXNEtleufk",
        "colab": {
          "base_uri": "https://localhost:8080/"
        },
        "outputId": "4f2844b8-1e4c-4574-99b5-d748d0cee796"
      },
      "execution_count": null,
      "outputs": [
        {
          "output_type": "stream",
          "name": "stdout",
          "text": [
            "========1========\n",
            "Prime: True\n",
            "Accepted\n",
            "========2========\n",
            "Prime: False\n",
            "Accepted\n"
          ]
        }
      ]
    },
    {
      "cell_type": "markdown",
      "source": [
        "#Easy"
      ],
      "metadata": {
        "id": "-v81hGhKe3qv"
      }
    },
    {
      "cell_type": "code",
      "source": [
        "#you may use this for decimal to hexadecimal mapping of 0-15\n",
        "#1\n",
        "def encoding(dec_number): #0<=dec_number<=15\n",
        "  return '0123456789ABCDEF'[dec_number]\n",
        "\n",
        "def dec_to_hexa_recursive(num):\n",
        "  if num // 16 == 0:\n",
        "    return encoding(num%16)\n",
        "  return dec_to_hexa_recursive(num//16) + encoding(num%16)\n",
        "\n",
        "print('Use of encoding function')\n",
        "decimal_number = 7\n",
        "print(f'Hexadecimal Number: {encoding(decimal_number)}')\n",
        "decimal_number = 13\n",
        "print(f'Hexadecimal Number: {encoding(decimal_number)}')\n",
        "print('========1========')\n",
        "returned_value = dec_to_hexa_recursive(1230)\n",
        "print(f'Hexadecimal Number: {returned_value}') # This should print 4CE\n",
        "unittest.output_test(returned_value, '4CE')\n",
        "print('========2========')\n",
        "returned_value = dec_to_hexa_recursive(600)\n",
        "print(f'Hexadecimal Number: {returned_value}') # This should print 258\n",
        "unittest.output_test(returned_value, '258')"
      ],
      "metadata": {
        "id": "P8mJClese7KD",
        "colab": {
          "base_uri": "https://localhost:8080/"
        },
        "outputId": "4695670e-9dcb-43e3-d604-ca9f4c65146e"
      },
      "execution_count": null,
      "outputs": [
        {
          "output_type": "stream",
          "name": "stdout",
          "text": [
            "Use of encoding function\n",
            "Hexadecimal Number: 7\n",
            "Hexadecimal Number: D\n",
            "========1========\n",
            "Hexadecimal Number: 4CE\n",
            "Accepted\n",
            "========2========\n",
            "Hexadecimal Number: 258\n",
            "Accepted\n"
          ]
        }
      ]
    },
    {
      "cell_type": "code",
      "source": [
        "#2\n",
        "def compare_recursive(head, arr,left=0):\n",
        "  if head != None and left<len(arr):\n",
        "    if head.elem != arr[left]:\n",
        "      return False\n",
        "    elif head.next == None:\n",
        "      return True\n",
        "    return compare_recursive(head.next, arr, left+1)\n",
        "\n",
        "print('========1========')\n",
        "array = np.array([10, 11, 12, 13, 14])\n",
        "head = create_linked_list(np.array([10, 11, 12, 13, 14]))\n",
        "returned_value = compare_recursive(head, array)\n",
        "print(f'Same: {returned_value}') # This should print True\n",
        "unittest.output_test(returned_value, True)\n",
        "print('========2========')\n",
        "array = np.array([10, 11, 12, 13, 14])\n",
        "head = create_linked_list(np.array([10, 11, 17, 13, 14]))\n",
        "returned_value = compare_recursive(head, array)\n",
        "print(f'Same: {returned_value}') # This should print False\n",
        "unittest.output_test(returned_value, False)"
      ],
      "metadata": {
        "id": "3cQ4WTupfJsf",
        "colab": {
          "base_uri": "https://localhost:8080/"
        },
        "outputId": "6c779b33-8786-4a5f-acd8-862562afcee4"
      },
      "execution_count": null,
      "outputs": [
        {
          "output_type": "stream",
          "name": "stdout",
          "text": [
            "========1========\n",
            "Same: True\n",
            "Accepted\n",
            "========2========\n",
            "Same: False\n",
            "Accepted\n"
          ]
        }
      ]
    },
    {
      "cell_type": "code",
      "source": [
        "#3\n",
        "def print_alphabets_recursive(head, vowels='aeiouAEIOU'):\n",
        "  if head != None:\n",
        "    if head.elem in vowels:\n",
        "      print(head.elem, end=' ')\n",
        "      print_alphabets_recursive(head.next)\n",
        "    elif head.elem not in vowels:\n",
        "      print_alphabets_recursive(head.next)\n",
        "      print(head.elem, end=' ')\n",
        "\n",
        "head = create_linked_list(np.array(['b', 'e', 'a', 'u', 't', 'i', 'f', 'u', 'l']))\n",
        "print_alphabets_recursive(head) #This will print e a u i u l f t b"
      ],
      "metadata": {
        "id": "zFGiCbScfNJ0",
        "colab": {
          "base_uri": "https://localhost:8080/"
        },
        "outputId": "00aa0ae6-9e25-48bf-cb83-03c323673df7"
      },
      "execution_count": null,
      "outputs": [
        {
          "output_type": "stream",
          "name": "stdout",
          "text": [
            "e a u i u l f t b "
          ]
        }
      ]
    },
    {
      "cell_type": "markdown",
      "source": [
        "#Medium"
      ],
      "metadata": {
        "id": "CaRQ_tSTgkZI"
      }
    },
    {
      "cell_type": "code",
      "source": [
        "#1\n",
        "def hocBuilder(height):\n",
        "  if height == 0:\n",
        "    return \"No House\"\n",
        "  elif height == 1:\n",
        "    return 8\n",
        "  return 5+hocBuilder(height-1)\n",
        "\n",
        "#Design Driver Code by yourself\n",
        "print(hocBuilder(0))\n",
        "print(hocBuilder(1))\n",
        "print(hocBuilder(2))\n",
        "print(hocBuilder(3))"
      ],
      "metadata": {
        "id": "KufwSw-_gnBO",
        "colab": {
          "base_uri": "https://localhost:8080/"
        },
        "outputId": "576a5d41-a52e-4ddf-caf7-a7f96cfb0658"
      },
      "execution_count": null,
      "outputs": [
        {
          "output_type": "stream",
          "name": "stdout",
          "text": [
            "No House\n",
            "8\n",
            "13\n",
            "18\n"
          ]
        }
      ]
    },
    {
      "cell_type": "code",
      "source": [
        "#2\n",
        "def max_recursive(arr, count=0, max = -112109008832832080):\n",
        "  if count!=len(arr):\n",
        "    if arr[count] > max:\n",
        "      max = arr[count]\n",
        "  else:\n",
        "    return max\n",
        "  return max_recursive(arr, count+1,max)\n",
        "\n",
        "print('========1========')\n",
        "array = np.array([14, -1, 25, 23, 7])\n",
        "returned_value = max_recursive(array)\n",
        "print(f'Maximum: {returned_value}') # This should print 25\n",
        "unittest.output_test(returned_value, 25)\n",
        "print('========2========')\n",
        "array = np.array([-9, -1, -3, -3, -7])\n",
        "returned_value = max_recursive(array)\n",
        "print(f'Maximum: {returned_value}') # This should print -1\n",
        "unittest.output_test(returned_value, -1)"
      ],
      "metadata": {
        "id": "GsEHYQPHfQbY",
        "colab": {
          "base_uri": "https://localhost:8080/"
        },
        "outputId": "f86a4260-2121-4f21-f3fb-68bb127dcfcb"
      },
      "execution_count": null,
      "outputs": [
        {
          "output_type": "stream",
          "name": "stdout",
          "text": [
            "========1========\n",
            "Maximum: 25\n",
            "Accepted\n",
            "========2========\n",
            "Maximum: -1\n",
            "Accepted\n"
          ]
        }
      ]
    },
    {
      "cell_type": "markdown",
      "source": [
        "#Hard"
      ],
      "metadata": {
        "id": "FJZjAYFwhhJE"
      }
    },
    {
      "cell_type": "code",
      "source": [
        "#1\n",
        "def print_pattern(n, count1=2, count2=1):\n",
        "  if count1 != n+2:\n",
        "    if count1-count2 != count1:\n",
        "      print(count1-count2, end=' ')\n",
        "      print_pattern(n,count1,count2-1)\n",
        "    else:\n",
        "      print()\n",
        "      count2 = count1\n",
        "      print_pattern(n,count1+1,count2)\n",
        "\n",
        "print('========1========')\n",
        "n = 5\n",
        "print_pattern(n)\n",
        "print('========1========')\n",
        "n = 7\n",
        "print_pattern(n)"
      ],
      "metadata": {
        "colab": {
          "base_uri": "https://localhost:8080/"
        },
        "id": "4Xdjz5pUgr0K",
        "outputId": "76e37144-654c-4bd5-f829-1f0670e966a8"
      },
      "execution_count": null,
      "outputs": [
        {
          "output_type": "stream",
          "name": "stdout",
          "text": [
            "========1========\n",
            "1 \n",
            "1 2 \n",
            "1 2 3 \n",
            "1 2 3 4 \n",
            "1 2 3 4 5 \n",
            "========1========\n",
            "1 \n",
            "1 2 \n",
            "1 2 3 \n",
            "1 2 3 4 \n",
            "1 2 3 4 5 \n",
            "1 2 3 4 5 6 \n",
            "1 2 3 4 5 6 7 \n"
          ]
        }
      ]
    },
    {
      "cell_type": "code",
      "source": [
        "#2\n",
        "def print_pattern_2(n, out=1,count1=1, count2=1):\n",
        "  if count1 != n+1:\n",
        "    if count2 != (n+1)-count1:\n",
        "      print(out, end=' ')\n",
        "      print_pattern_2(n, out+(2**(count1-1)),count1,count2+1)\n",
        "    else:\n",
        "      print(out, end='\\n')\n",
        "      print_pattern_2(n, 1 + 2*count1, count1+1, 1)\n",
        "\n",
        "print('========1========')\n",
        "n = 5\n",
        "print_pattern_2(n)\n",
        "print('========2========')\n",
        "n = 7\n",
        "print_pattern_2(n)"
      ],
      "metadata": {
        "colab": {
          "base_uri": "https://localhost:8080/"
        },
        "id": "oPZKlTYlu2ut",
        "outputId": "5f166af3-37d4-43ae-8822-cd61db06f896"
      },
      "execution_count": null,
      "outputs": [
        {
          "output_type": "stream",
          "name": "stdout",
          "text": [
            "========1========\n",
            "1 2 3 4 5\n",
            "3 5 7 9\n",
            "5 9 13\n",
            "7 15\n",
            "9\n",
            "========2========\n",
            "1 2 3 4 5 6 7\n",
            "3 5 7 9 11 13\n",
            "5 9 13 17 21\n",
            "7 15 23 31\n",
            "9 25 41\n",
            "11 43\n",
            "13\n"
          ]
        }
      ]
    },
    {
      "cell_type": "markdown",
      "source": [
        "#Very Hard"
      ],
      "metadata": {
        "id": "v-CxHGqZm9WB"
      }
    },
    {
      "cell_type": "code",
      "source": [
        "def flattenList(given_list, output_list):\n",
        "  if len(given_list) == 0:\n",
        "    return output_list\n",
        "  else:\n",
        "    if type(given_list[0])==int:\n",
        "      output_list.append(given_list[0])\n",
        "    else:\n",
        "      flattenList(given_list[0], output_list)\n",
        "  return flattenList(given_list[1:], output_list)\n",
        "\n",
        "given_list = [1, [2, [3, [4], 5], 6], 7, 8, [9, [[10, 11], 12], 13], 14, [15, [16, [17]]]]\n",
        "output_list = flattenList(given_list, []) # Initial empty list is sent for update\n",
        "print(output_list)\n",
        "#output_list = [1, 2, 3, 4, 5, 6, 7, 8, 9, 10, 11, 12, 13, 14, 15, 16, 17]"
      ],
      "metadata": {
        "colab": {
          "base_uri": "https://localhost:8080/"
        },
        "id": "lID9A-WYGqTD",
        "outputId": "3e36a9c0-7396-4a08-8970-9f8f98244570"
      },
      "execution_count": null,
      "outputs": [
        {
          "output_type": "stream",
          "name": "stdout",
          "text": [
            "[1, 2, 3, 4, 5, 6, 7, 8, 9, 10, 11, 12, 13, 14, 15, 16, 17]\n"
          ]
        }
      ]
    }
  ]
}